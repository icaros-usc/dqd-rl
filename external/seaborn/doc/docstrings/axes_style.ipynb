{
 "cells": [
  {
   "cell_type": "code",
   "execution_count": null,
   "id": "dated-mother",
   "metadata": {
    "tags": [
     "hide"
    ]
   },
   "outputs": [],
   "source": [
    "import seaborn as sns"
   ]
  },
  {
   "cell_type": "markdown",
   "id": "prospective-sellers",
   "metadata": {},
   "source": [
    "Calling with no arguments will return the current defaults for the style parameters:"
   ]
  },
  {
   "cell_type": "code",
   "execution_count": null,
   "id": "recognized-rehabilitation",
   "metadata": {
    "tags": [
     "show-output"
    ]
   },
   "outputs": [],
   "source": [
    "sns.axes_style()"
   ]
  },
  {
   "cell_type": "markdown",
   "id": "furnished-irrigation",
   "metadata": {},
   "source": [
    "Calling with the name of a predefined style will show those parameter values:"
   ]
  },
  {
   "cell_type": "code",
   "execution_count": null,
   "id": "coordinate-reward",
   "metadata": {
    "tags": [
     "show-output"
    ]
   },
   "outputs": [],
   "source": [
    "sns.axes_style(\"darkgrid\")"
   ]
  },
  {
   "cell_type": "markdown",
   "id": "mediterranean-picking",
   "metadata": {},
   "source": [
    "Use the function as a context manager to temporarily change the style of your plots:"
   ]
  },
  {
   "cell_type": "code",
   "execution_count": null,
   "id": "missing-essence",
   "metadata": {},
   "outputs": [],
   "source": [
    "with sns.axes_style(\"whitegrid\"):\n",
    "    sns.barplot(x=[1, 2, 3], y=[2, 5, 3])"
   ]
  }
 ],
 "metadata": {
  "kernelspec": {
   "display_name": "seaborn-py38-latest",
   "language": "python",
   "name": "seaborn-py38-latest"
  },
  "language_info": {
   "codemirror_mode": {
    "name": "ipython",
    "version": 3
   },
   "file_extension": ".py",
   "mimetype": "text/x-python",
   "name": "python",
   "nbconvert_exporter": "python",
   "pygments_lexer": "ipython3",
   "version": "3.8.5"
  }
 },
 "nbformat": 4,
 "nbformat_minor": 5
}
