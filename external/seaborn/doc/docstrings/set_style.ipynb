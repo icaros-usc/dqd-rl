{
 "cells": [
  {
   "cell_type": "code",
   "execution_count": null,
   "id": "practical-announcement",
   "metadata": {
    "tags": [
     "hide"
    ]
   },
   "outputs": [],
   "source": [
    "import seaborn as sns"
   ]
  },
  {
   "cell_type": "markdown",
   "id": "suffering-emerald",
   "metadata": {},
   "source": [
    "Call the function with the name of a seaborn style to set the default for all plots:"
   ]
  },
  {
   "cell_type": "code",
   "execution_count": null,
   "id": "collaborative-struggle",
   "metadata": {},
   "outputs": [],
   "source": [
    "sns.set_style(\"whitegrid\")\n",
    "sns.barplot(x=[\"A\", \"B\", \"C\"], y=[1, 3, 2])"
   ]
  },
  {
   "cell_type": "markdown",
   "id": "defensive-surgery",
   "metadata": {},
   "source": [
    "You can also selectively override seaborn's default parameter values:"
   ]
  },
  {
   "cell_type": "code",
   "execution_count": null,
   "id": "coastal-sydney",
   "metadata": {},
   "outputs": [],
   "source": [
    "sns.set_style(\"darkgrid\", {\"grid.color\": \".6\", \"grid.linestyle\": \":\"})\n",
    "sns.lineplot(x=[\"A\", \"B\", \"C\"], y=[1, 3, 2])"
   ]
  },
  {
   "cell_type": "code",
   "execution_count": null,
   "id": "bright-october",
   "metadata": {},
   "outputs": [],
   "source": []
  }
 ],
 "metadata": {
  "kernelspec": {
   "display_name": "seaborn-py38-latest",
   "language": "python",
   "name": "seaborn-py38-latest"
  },
  "language_info": {
   "codemirror_mode": {
    "name": "ipython",
    "version": 3
   },
   "file_extension": ".py",
   "mimetype": "text/x-python",
   "name": "python",
   "nbconvert_exporter": "python",
   "pygments_lexer": "ipython3",
   "version": "3.8.5"
  }
 },
 "nbformat": 4,
 "nbformat_minor": 5
}
