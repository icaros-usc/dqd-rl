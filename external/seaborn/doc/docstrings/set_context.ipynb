{
 "cells": [
  {
   "cell_type": "code",
   "execution_count": null,
   "id": "thorough-equipment",
   "metadata": {
    "tags": [
     "hide"
    ]
   },
   "outputs": [],
   "source": [
    "import seaborn as sns"
   ]
  },
  {
   "cell_type": "markdown",
   "id": "canadian-protection",
   "metadata": {},
   "source": [
    "Call the function with the name of a context to set the default for all plots:"
   ]
  },
  {
   "cell_type": "code",
   "execution_count": null,
   "id": "freelance-leonard",
   "metadata": {},
   "outputs": [],
   "source": [
    "sns.set_context(\"notebook\")\n",
    "sns.lineplot(x=[0, 1, 2], y=[1, 3, 2])"
   ]
  },
  {
   "cell_type": "markdown",
   "id": "studied-adventure",
   "metadata": {},
   "source": [
    "You can independently scale the font elements relative to the current context:"
   ]
  },
  {
   "cell_type": "code",
   "execution_count": null,
   "id": "irish-digest",
   "metadata": {},
   "outputs": [],
   "source": [
    "sns.set_context(\"notebook\", font_scale=1.25)\n",
    "sns.lineplot(x=[0, 1, 2], y=[1, 3, 2])"
   ]
  },
  {
   "cell_type": "markdown",
   "id": "fourth-technical",
   "metadata": {},
   "source": [
    "It is also possible to override some of the parameters with specific values:"
   ]
  },
  {
   "cell_type": "code",
   "execution_count": null,
   "id": "advance-request",
   "metadata": {},
   "outputs": [],
   "source": [
    "sns.set_context(\"notebook\", rc={\"lines.linewidth\": 3})\n",
    "sns.lineplot(x=[0, 1, 2], y=[1, 3, 2])"
   ]
  },
  {
   "cell_type": "code",
   "execution_count": null,
   "id": "compatible-string",
   "metadata": {},
   "outputs": [],
   "source": []
  }
 ],
 "metadata": {
  "kernelspec": {
   "display_name": "seaborn-py38-latest",
   "language": "python",
   "name": "seaborn-py38-latest"
  },
  "language_info": {
   "codemirror_mode": {
    "name": "ipython",
    "version": 3
   },
   "file_extension": ".py",
   "mimetype": "text/x-python",
   "name": "python",
   "nbconvert_exporter": "python",
   "pygments_lexer": "ipython3",
   "version": "3.8.5"
  }
 },
 "nbformat": 4,
 "nbformat_minor": 5
}
