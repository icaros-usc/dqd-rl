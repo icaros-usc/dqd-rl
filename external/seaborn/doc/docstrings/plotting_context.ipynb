{
 "cells": [
  {
   "cell_type": "code",
   "execution_count": null,
   "id": "perceived-worry",
   "metadata": {
    "tags": [
     "hide"
    ]
   },
   "outputs": [],
   "source": [
    "import seaborn as sns"
   ]
  },
  {
   "cell_type": "markdown",
   "id": "seventh-volleyball",
   "metadata": {},
   "source": [
    "Calling with no arguments will return the current defaults for the parameters that get scaled:"
   ]
  },
  {
   "cell_type": "code",
   "execution_count": null,
   "id": "roman-villa",
   "metadata": {
    "tags": [
     "show-output"
    ]
   },
   "outputs": [],
   "source": [
    "sns.plotting_context()"
   ]
  },
  {
   "cell_type": "markdown",
   "id": "handled-texas",
   "metadata": {},
   "source": [
    "Calling with the name of a predefined style will show those values:"
   ]
  },
  {
   "cell_type": "code",
   "execution_count": null,
   "id": "distant-caribbean",
   "metadata": {
    "tags": [
     "show-output"
    ]
   },
   "outputs": [],
   "source": [
    "sns.plotting_context(\"talk\")"
   ]
  },
  {
   "cell_type": "markdown",
   "id": "lightweight-anime",
   "metadata": {},
   "source": [
    "Use the function as a context manager to temporarily change the parameter values:"
   ]
  },
  {
   "cell_type": "code",
   "execution_count": null,
   "id": "contemporary-hampshire",
   "metadata": {},
   "outputs": [],
   "source": [
    "with sns.plotting_context(\"talk\"):\n",
    "    sns.lineplot(x=[\"A\", \"B\", \"C\"], y=[1, 3, 2])"
   ]
  },
  {
   "cell_type": "code",
   "execution_count": null,
   "id": "accompanied-brisbane",
   "metadata": {},
   "outputs": [],
   "source": []
  }
 ],
 "metadata": {
  "kernelspec": {
   "display_name": "seaborn-py38-latest",
   "language": "python",
   "name": "seaborn-py38-latest"
  },
  "language_info": {
   "codemirror_mode": {
    "name": "ipython",
    "version": 3
   },
   "file_extension": ".py",
   "mimetype": "text/x-python",
   "name": "python",
   "nbconvert_exporter": "python",
   "pygments_lexer": "ipython3",
   "version": "3.8.5"
  }
 },
 "nbformat": 4,
 "nbformat_minor": 5
}
